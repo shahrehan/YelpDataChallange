%%R
loc <- grep("R,e,s,t,a,u", data_bus$categories, perl=TRUE, value=FALSE)
data_bus_subset <- data_bus[loc,]
data_subset = subset(data_bus_subset,select=c("stars","business_id"))
data_checkin_stars <- merge(data_checkin,data_subset,by="business_id")
drops <- c("type","business_id")
data_checkin_stars = data_checkin_stars[,!(names(data_checkin_stars) %in% drops)]
data_checkin_stars[is.na(data_checkin_stars)] <- 0 #replace all NA values with 0

first_q = 3.01 # assign the label "good" to nodes in top quantile of our data, and similar "bad" for the lowest quantile
third_q = 3.99
good<- data_checkin_stars$stars > third_q
bad<- data_checkin_stars$stars < first_q


data_checkin_stars$quant_rating <- "medium"
data_checkin_stars[good,]$quant_rating<-"good"
data_checkin_stars[bad,]$quant_rating<-"bad"
print(dim(data_checkin_stars))