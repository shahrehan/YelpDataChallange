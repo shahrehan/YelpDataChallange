%%R -h 700 -w 700
par(mfrow=c(2, 2))
raw_checkin_times <- data_checkin_stars[,1:168]

total_checkin_times <- colSums(raw_checkin_times)
total_checkin_sorted_names = names(data_checkin_stars)
ndx = order(total_checkin_times,decreasing=TRUE)

total_checkin_sorted_names<-total_checkin_sorted_names[ndx]
total_checkin_times <- total_checkin_times[ndx]

plot(total_checkin_times,log='xy',main="Ranked Log-Log Plot")
plot(total_checkin_times,log='x', main= "Ranked Log-Lin Plot") # Log-Log and Log-lin plot checking for log-normal dist
plot(total_checkin_times,log='y', main= "Ranked Lin-Log Plot") # Log-Log and Log-lin plot checking for log-normal dist
gamma_param = fitdistr(total_checkin_times/10, "Gamma") # attempt to fit gamma, exp, and log norm
exp <-fitdistr(total_checkin_times,"exponential")
lognorm_param <-fitdistr(total_checkin_times,"lognormal")

hist(total_checkin_times, xlab="Check ins", ylab="Frequency",
     breaks=20, main="Total number of check ins in a given time slice", col="green", prob=TRUE)
legend("right", c("Exponential Distribution","Gamma Distribution", "Log-Normal"), col=c("blue", "red", "black"), lwd=3)

x_range = 1:length(total_checkin_times)
curve(dexp(x, rate=exp$estimate[1]), col="blue", add=TRUE)
curve(dlnorm(x, meanlog=lognorm_param$estimate[1], sdlog=lognorm_param$estimate[2]), col="black", add=TRUE)
curve(dgamma(x, shape=gamma_param$estimate[1], rate=gamma_param$estimate[2]/10), col="red", add=TRUE)
cat("KS p-value exp: ");print((ks.test(total_checkin_times,"pexp",rate=exp$estimate[1]))$p.value) #compare KS stats
cat("KS p-value lognorm: ");print((ks.test(total_checkin_times,"plnorm",meanlog=lognorm_param$estimate[1], sdlog=lognorm_param$estimate[2]))$p.value)
cat("KS p-value gamma: ");print((ks.test(total_checkin_times,"pgamma",shape=gamma_param$estimate[1], rate=gamma_param$estimate[2]/10))$p.value)


n <- length(total_checkin_times)
x <- qexp(c(1:n)/(n+1))
m <- mean(total_checkin_times)
ylim <- c(0,max(total_checkin_times))
qqplot(x, total_checkin_times, xlab="Exp QQ Plot",ylim=ylim,ylab="Sampled Quartiles",main="Exp QQ Plot")
abline(0,m,lty=2)


qqnorm(log(total_checkin_times),main="Log-normal QQ plot")
qqline(log(total_checkin_times)) 

gamma_dist_quartiles <- rgamma(1000, shape=gamma_param$estimate[1], rate=gamma_param$estimate[2]/10)
qqplot(total_checkin_times, gamma_dist_quartiles,xlab="Gamma QQ Plot",ylim=ylim,ylab="Sampled Quartiles",main = "Gamma QQ Plot")
abline(0,1)