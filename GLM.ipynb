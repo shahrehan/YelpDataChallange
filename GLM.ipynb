%%R -h 700 -w 700

##Building a predictive model to predict star rating based on checkin_info using logistic regression.
##SUBSAMPLING 3000 out of 4000 (training set)
train_checkin_indices <- sample(nrow(data_checkin_stars), 3000)
train_checkin <- data_checkin_stars[train_checkin_indices, ]
write.csv(train_checkin, file = "train_yelp_checkins_stars.csv") 

#SUBSAMPLING FOR TESTING SET (all elements not in training set)
test_checkin <- data_checkin_stars[-train_checkin_indices, ]
write.csv(test_checkin, file = "test_yelp_checkins_stars.csv")

##ROUGH GLM MODEL TO SEE IF CHECK INS HAVE ANY RELATIONSHIP WITH STARS
no_rating <- train_checkin[,1:169]
checkin.glm <- glm(stars~.,data=no_rating,na.action=na.omit)

test_predictions <- predict(checkin.glm , test_checkin)
training_predictions <- predict(checkin.glm , train_checkin)

total_error <- abs(test_predictions - test_checkin$stars)
cat("Quartile summary of abs error");print(summary(total_error))

par(mfrow = c(2, 2))
hist(test_checkin$stars, xlab="Test Sample Star Dist", ylab="Frequency"
     , main="Test Sample Frequency", breaks=6, col="blue", prob=TRUE)
hist(test_predictions, xlab="Test Prediction Star Dist", ylab="Frequency"
     , main="Test Set Prediction Frequency", breaks=6, col="blue", prob=TRUE)

hist(train_checkin$stars, xlab="Training Set Prediction Star Dist", ylab="Frequency"
     , main="Training Set Prediction Frequency", breaks=6, col="red", prob=TRUE)
hist(training_predictions, xlab="Training Set Prediction Star Dist", ylab="Frequency"
     , main="Training Set Prediction Frequency", breaks=6, col="red", prob=TRUE)
plot(checkin.glm)
m <- nrow(test_checkin)
cat("On average we have an absolute error in predicting star ratings of: "); print(sum(total_error)/m);