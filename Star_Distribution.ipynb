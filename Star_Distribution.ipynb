%%R -h 400 -w 800
## Fitting a distribution to overall star rating per restaurant
## Originally we settled on normal as being a good fit.  Seeing as the tails are fatter than expected, we also tried to fit 
# a Cauchy dist. to our data.
library(MASS)
data_checkin_stars_only <- data_checkin_stars[1:169]
star_dist <- fitdistr(data_checkin_stars_only$stars, "normal")
star_dist1 <- fitdistr(data_checkin_stars_only$stars, "cauchy")
par(mfrow = c(1, 2))
hist(data_checkin_stars_only$stars, xlab="Stars", ylab="Frequency",
     breaks=13, main="Star Distribution among Restaurants", col="red", prob=TRUE)
curve(dcauchy(x, location=star_dist1$estimate[1] , scale=star_dist1$estimate[2]), col="green", add=TRUE)
curve(dnorm(x, mean=star_dist$estimate[1], sd=star_dist$estimate[2]), col="blue", add=TRUE)
legend("right", c("Normal Dist Fit","Cauchy Fit"), col=c("blue","green"), lwd=3)
cat("Quantile summary for star rating among Restaurants: \n");print(summary(data_bus_subset$stars))
ylim <- c(0,max(data_checkin_stars_only$stars))
Cauchy_dist_quartiles <- rcauchy(10000, location=star_dist1$estimate[1] , scale=star_dist1$estimate[2])
normal_dist_quartiles <- rnorm(10000, mean=star_dist$estimate[1], sd=star_dist$estimate[2])

qqplot(data_checkin_stars$stars, Cauchy_dist_quartiles,xlab="Cauchy-Fit QQ Plot"
       ,ylim=ylim,ylab="Sampled Quartiles",main = "Cauchy QQ Plot")
abline(0,1)
qqplot(data_checkin_stars$stars, normal_dist_quartiles,xlab="Normal-Fit QQ Plot"
       ,ylim=ylim,ylab="Sampled Quartiles",main = "Normal QQ Plot")
abline(0,1)